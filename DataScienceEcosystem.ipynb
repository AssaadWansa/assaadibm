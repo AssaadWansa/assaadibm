{
 "cells": [
  {
   "cell_type": "markdown",
   "id": "159c86be-266e-467b-94b8-a15cbdfc6840",
   "metadata": {},
   "source": [
    "Data Science Tools and Ecosystem"
   ]
  },
  {
   "cell_type": "markdown",
   "id": "3ec25980-a9ff-4f84-ae93-bb99c3a1f8bd",
   "metadata": {
    "tags": []
   },
   "source": [
    "In this notebook, Data Science Tools and Ecosystem are summarized."
   ]
  },
  {
   "cell_type": "markdown",
   "id": "480240f1-1ae0-41b5-bec5-d2953556359e",
   "metadata": {},
   "source": [
    "**Objectives:**\n",
    "- List popular languages for Data Science\n",
    "- List some of the used libraries in Data Science\n",
    "- Summarize the Data Science Tools\n",
    "- Provide examples of evaluating arithmetic expressions in Python"
   ]
  },
  {
   "cell_type": "markdown",
   "id": "c9076b3c-c6e7-4133-9efb-961c20b0b772",
   "metadata": {},
   "source": [
    "Some of the popular languages that Data Scientists use are:\n",
    "\n",
    "    1-Python    \n",
    "    2-R language\n",
    "    3-SQL\n",
    "    4-Julia\n",
    "    \n",
    "    5-Matlab"
   ]
  },
  {
   "cell_type": "markdown",
   "id": "5ad9ed10-4291-40ae-ad88-790631ee680b",
   "metadata": {
    "tags": []
   },
   "source": [
    "Some of the commonly used libraries used by Data Scientists include:\n",
    "\n",
    "- NumPy\n",
    "- Pandas\n",
    "- Matplotlib\n",
    "- TensorFlow"
   ]
  },
  {
   "cell_type": "markdown",
   "id": "ce99a653-8d45-4243-a465-38920db393ef",
   "metadata": {},
   "source": [
    "| Data Science Tools |\n",
    "| ----------------- |\n",
    "| Jupyter Notebook  |\n",
    "| RStudio           |\n",
    "| Visual Studio Code|"
   ]
  },
  {
   "cell_type": "markdown",
   "id": "67113c48-d870-4b12-ba31-e3e60a4aeda4",
   "metadata": {},
   "source": [
    "Below are a few examples of evaluating arithmetic expressions in Python:\n",
    "\n",
    "- Example 1: Addition\n",
    "  - Expression: `10 + 5`\n",
    "  - Result: `15`\n",
    "\n",
    "- Example 2: Subtraction\n",
    "  - Expression: `10 - 5`\n",
    "  - Result: `5`\n",
    "\n",
    "- Example 3: Multiplication\n",
    "  - Expression: `10 * 5`\n",
    "  - Result: `50`"
   ]
  },
  {
   "cell_type": "code",
   "execution_count": 3,
   "id": "c470a307-836e-43c9-9d45-58a3cb4ada2c",
   "metadata": {
    "tags": []
   },
   "outputs": [
    {
     "data": {
      "text/plain": [
       "17"
      ]
     },
     "execution_count": 3,
     "metadata": {},
     "output_type": "execute_result"
    }
   ],
   "source": [
    "# This a simple arithmetic expression to mutiply then add integers\n",
    "(3*4)+5"
   ]
  },
  {
   "cell_type": "code",
   "execution_count": 4,
   "id": "57ca39a1-5d9d-464b-bb30-1e52cc5f8ea6",
   "metadata": {
    "tags": []
   },
   "outputs": [
    {
     "data": {
      "text/plain": [
       "3.3333333333333335"
      ]
     },
     "execution_count": 4,
     "metadata": {},
     "output_type": "execute_result"
    }
   ],
   "source": [
    "#This will convert 200 minutes to hours by diving by 60\n",
    "200/60"
   ]
  },
  {
   "cell_type": "markdown",
   "id": "4ff3261b-5b15-4373-9c86-91f8943b614f",
   "metadata": {
    "tags": []
   },
   "source": [
    "## Author\n",
    "Assaad Wansa"
   ]
  },
  {
   "cell_type": "code",
   "execution_count": null,
   "id": "f3ae04f7-55c9-4c5b-b222-34eec04a548e",
   "metadata": {},
   "outputs": [],
   "source": []
  }
 ],
 "metadata": {
  "kernelspec": {
   "display_name": "Python",
   "language": "python",
   "name": "conda-env-python-py"
  },
  "language_info": {
   "codemirror_mode": {
    "name": "ipython",
    "version": 3
   },
   "file_extension": ".py",
   "mimetype": "text/x-python",
   "name": "python",
   "nbconvert_exporter": "python",
   "pygments_lexer": "ipython3",
   "version": "3.7.12"
  }
 },
 "nbformat": 4,
 "nbformat_minor": 5
}
